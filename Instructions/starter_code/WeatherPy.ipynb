{
 "cells": [
  {
   "cell_type": "markdown",
   "metadata": {},
   "source": [
    "# WeatherPy\n",
    "----\n",
    "\n",
    "#### Note\n",
    "* Instructions have been included for each segment. You do not have to follow them exactly, but they are included to help you think through the steps."
   ]
  },
  {
   "cell_type": "code",
   "execution_count": 2,
   "metadata": {
    "scrolled": true
   },
   "outputs": [],
   "source": [
    "# Dependencies and Setup\n",
    "import matplotlib.pyplot as plt\n",
    "import pandas as pd\n",
    "import numpy as np\n",
    "import requests\n",
    "import time\n",
    "from scipy.stats import linregress\n",
    "import scipy.stats as st\n",
    "\n",
    "# Import API key\n",
    "from api_keys import weather_api_key\n",
    "\n",
    "# Incorporated citipy to determine city based on latitude and longitude\n",
    "from citipy import citipy\n",
    "\n",
    "# Output File (CSV)\n",
    "output_data_file = \"output_data/cities.csv\"\n",
    "\n",
    "# Range of latitudes and longitudes\n",
    "lat_range = (-90, 90)\n",
    "lng_range = (-180, 180)"
   ]
  },
  {
   "cell_type": "markdown",
   "metadata": {},
   "source": [
    "## Generate Cities List"
   ]
  },
  {
   "cell_type": "code",
   "execution_count": 3,
   "metadata": {
    "scrolled": true
   },
   "outputs": [
    {
     "data": {
      "text/plain": [
       "602"
      ]
     },
     "execution_count": 3,
     "metadata": {},
     "output_type": "execute_result"
    }
   ],
   "source": [
    "# List for holding lat_lngs and cities\n",
    "lat_lngs = []\n",
    "cities = []\n",
    "\n",
    "# Create a set of random lat and lng combinations\n",
    "lats = np.random.uniform(lat_range[0], lat_range[1], size=1500)\n",
    "lngs = np.random.uniform(lng_range[0], lng_range[1], size=1500)\n",
    "lat_lngs = zip(lats, lngs)\n",
    "\n",
    "# Identify nearest city for each lat, lng combination\n",
    "for lat_lng in lat_lngs:\n",
    "    city = citipy.nearest_city(lat_lng[0], lat_lng[1]).city_name\n",
    "    \n",
    "    # If the city is unique, then add it to a our cities list\n",
    "    if city not in cities:\n",
    "        cities.append(city)\n",
    "\n",
    "# Print the city count to confirm sufficient count\n",
    "len(cities)"
   ]
  },
  {
   "cell_type": "markdown",
   "metadata": {},
   "source": [
    "### Perform API Calls\n",
    "* Perform a weather check on each city using a series of successive API calls.\n",
    "* Include a print log of each city as it'sbeing processed (with the city number and city name).\n"
   ]
  },
  {
   "cell_type": "code",
   "execution_count": 4,
   "metadata": {},
   "outputs": [
    {
     "data": {
      "text/plain": [
       "{'coord': {'lon': -0.13, 'lat': 51.51},\n",
       " 'weather': [{'id': 803,\n",
       "   'main': 'Clouds',\n",
       "   'description': 'broken clouds',\n",
       "   'icon': '04n'}],\n",
       " 'base': 'stations',\n",
       " 'main': {'temp': 47.71,\n",
       "  'feels_like': 44.71,\n",
       "  'temp_min': 46.99,\n",
       "  'temp_max': 48.99,\n",
       "  'pressure': 1008,\n",
       "  'humidity': 88},\n",
       " 'visibility': 10000,\n",
       " 'wind': {'speed': 3, 'deg': 267, 'gust': 13},\n",
       " 'clouds': {'all': 58},\n",
       " 'dt': 1603927556,\n",
       " 'sys': {'type': 3,\n",
       "  'id': 2019646,\n",
       "  'country': 'GB',\n",
       "  'sunrise': 1603867648,\n",
       "  'sunset': 1603903253},\n",
       " 'timezone': 0,\n",
       " 'id': 2643743,\n",
       " 'name': 'London',\n",
       " 'cod': 200}"
      ]
     },
     "metadata": {},
     "output_type": "display_data"
    }
   ],
   "source": [
    "url = \"http://api.openweathermap.org/data/2.5/weather?\"\n",
    "units = \"imperial\"\n",
    "# building partial query url\n",
    "query_url = f\"{url}appid={weather_api_key}&units={units}&q=\"\n",
    "query_url\n",
    "response= requests.get(query_url+\"london\").json()\n",
    "display(response)"
   ]
  },
  {
   "cell_type": "code",
   "execution_count": 5,
   "metadata": {},
   "outputs": [
    {
     "name": "stdout",
     "output_type": "stream",
     "text": [
      "City name is Ushuaia and id is 3833367.\n",
      "City name is Punta Arenas and id is 3874787.\n",
      "City name is East London and id is 1006984.\n",
      "City name is Doctor Arroyo and id is 4011873.\n",
      "City name is Berbera and id is 64435.\n",
      "did not find\n",
      "City name is New Norfolk and id is 2155415.\n",
      "City name is Atuona and id is 4020109.\n",
      "City name is Tazovsky and id is 1489853.\n",
      "City name is Henties Bay and id is 3356832.\n",
      "City name is Fairbanks and id is 5861897.\n",
      "City name is Ouidah and id is 2392308.\n",
      "City name is Busselton and id is 2075265.\n",
      "City name is Arraial do Cabo and id is 3471451.\n",
      "City name is Abu Samrah and id is 172515.\n",
      "City name is Lac du Bonnet and id is 6014443.\n",
      "City name is Pangnirtung and id is 6096551.\n",
      "City name is Camopi and id is 3382226.\n",
      "City name is Hermanus and id is 3366880.\n",
      "City name is Albany and id is 5106841.\n",
      "did not find\n",
      "City name is Pemangkat and id is 1631637.\n",
      "City name is Provideniya and id is 4031574.\n",
      "City name is Manokwari and id is 1636308.\n",
      "City name is Mataura and id is 6201424.\n",
      "City name is Forsytheganj and id is 10722858.\n",
      "City name is Isangel and id is 2136825.\n",
      "City name is Yellowknife and id is 6185377.\n",
      "City name is Barrow and id is 5880054.\n",
      "City name is Rawson and id is 3839307.\n",
      "City name is Kanniyākumāri and id is 1268008.\n",
      "City name is Bartica and id is 3379507.\n",
      "City name is Ola and id is 2122574.\n",
      "City name is Lebu and id is 3883457.\n",
      "City name is Tiksi and id is 2015306.\n",
      "City name is Laas and id is 3175096.\n",
      "City name is Aswān and id is 359792.\n",
      "City name is Yerbogachën and id is 2012956.\n",
      "City name is Jamestown and id is 5122534.\n",
      "City name is San Mateo Ixtatán and id is 3589770.\n",
      "City name is Myaundzha and id is 2123100.\n",
      "City name is Butaritari and id is 2110227.\n",
      "City name is Fukuechō and id is 1863997.\n",
      "City name is Saldanha and id is 3361934.\n",
      "City name is Qaqortoq and id is 3420846.\n",
      "City name is Borogontsy and id is 2026160.\n",
      "City name is Qaanaaq and id is 3831208.\n",
      "City name is Lázaro Cárdenas and id is 4026082.\n",
      "City name is Cape Town and id is 3369157.\n",
      "City name is São Filipe and id is 3374210.\n",
      "City name is Broome and id is 5110365.\n",
      "City name is Serramanna and id is 2523148.\n",
      "City name is Meulaboh and id is 1214488.\n",
      "City name is Camacupa and id is 3351014.\n",
      "City name is Trincomalee and id is 1226260.\n",
      "City name is Isla Vista and id is 5359864.\n",
      "did not find\n",
      "City name is Morondava and id is 1058381.\n",
      "did not find\n",
      "City name is Port Elizabeth and id is 964420.\n",
      "City name is Upata and id is 3625710.\n",
      "City name is Hithadhoo and id is 1282256.\n",
      "City name is Bluff and id is 2206939.\n",
      "City name is Puerto Ayora and id is 3652764.\n",
      "City name is Rocha and id is 3440777.\n",
      "City name is Hilo and id is 5855927.\n",
      "did not find\n",
      "City name is Puerto Cabezas and id is 3617154.\n",
      "City name is Neyshabur and id is 122285.\n",
      "City name is Upernavik and id is 3418910.\n",
      "did not find\n",
      "City name is Tanout and id is 2439155.\n",
      "City name is Rikitea and id is 4030556.\n",
      "City name is Benjamín Aceval and id is 3439348.\n",
      "City name is Makakilo City and id is 5850554.\n",
      "City name is Tasiilaq and id is 3424607.\n",
      "City name is Khatanga and id is 2022572.\n",
      "did not find\n",
      "City name is Mahébourg and id is 934322.\n",
      "City name is Kapaa and id is 5848280.\n",
      "did not find\n",
      "City name is Chui and id is 3443061.\n",
      "City name is Malchevskaya and id is 526558.\n",
      "City name is Santa Rosa and id is 1687894.\n",
      "City name is Maracaibo and id is 3633009.\n",
      "City name is Evensk and id is 2125693.\n",
      "City name is Guarapari and id is 3461888.\n",
      "City name is Guerrero Negro and id is 4021858.\n",
      "City name is Tessalit and id is 2449893.\n",
      "City name is Ponta do Sol and id is 2264557.\n",
      "did not find\n",
      "City name is Alyangula and id is 2079582.\n",
      "did not find\n",
      "City name is Ostrovnoy and id is 556268.\n",
      "City name is Pomabamba and id is 3693468.\n",
      "City name is Amudat and id is 235191.\n",
      "City name is Ilulissat and id is 3423146.\n",
      "City name is Cananéia and id is 3467609.\n",
      "City name is Ribeira Grande and id is 3372707.\n",
      "City name is Kavaratti and id is 1267390.\n",
      "City name is Pringsewu and id is 1630639.\n",
      "City name is Oodweyne and id is 53372.\n",
      "City name is Poum and id is 2138555.\n",
      "City name is Pisco and id is 3932145.\n",
      "City name is St. George's and id is 3579925.\n",
      "City name is Hokitika and id is 2206894.\n",
      "City name is Norman Wells and id is 6089245.\n",
      "did not find\n",
      "City name is Jiuquan and id is 1279945.\n",
      "City name is Esperance and id is 2071860.\n",
      "City name is Oleksandrivka and id is 713676.\n",
      "City name is Vardø and id is 777019.\n",
      "City name is Gilbués and id is 3398931.\n",
      "City name is Vaini and id is 4032243.\n",
      "City name is Krasnosel'kup and id is 1502073.\n",
      "City name is Hobart and id is 2163355.\n",
      "City name is Chokurdakh and id is 2126123.\n",
      "City name is Kununurra and id is 2068110.\n",
      "City name is Ulaanbaatar and id is 2028462.\n",
      "City name is Hamilton and id is 4513583.\n",
      "did not find\n",
      "City name is Jambi City and id is 1642858.\n",
      "City name is Los Llanos de Aridane and id is 2514651.\n",
      "City name is Hadejia and id is 2339631.\n",
      "did not find\n",
      "City name is Bethel and id is 5282297.\n",
      "City name is Bathsheba and id is 3374083.\n",
      "City name is Teeli and id is 1489828.\n",
      "City name is Bredasdorp and id is 1015776.\n",
      "City name is Praia and id is 3374333.\n",
      "City name is Wajima and id is 1848976.\n",
      "did not find\n",
      "City name is Cidreira and id is 3466165.\n",
      "City name is Winnipeg and id is 6183235.\n",
      "City name is Dikson and id is 1507390.\n",
      "City name is Moussoro and id is 2427336.\n",
      "City name is Mount Gambier and id is 2156643.\n",
      "City name is Tuktoyaktuk and id is 6170031.\n",
      "City name is Eureka and id is 5563397.\n",
      "City name is Castro and id is 3466704.\n",
      "City name is Koutiala and id is 2454268.\n",
      "did not find\n",
      "City name is Shingū and id is 1847947.\n",
      "City name is Yuli and id is 2317982.\n",
      "City name is Saint-Philippe and id is 935215.\n",
      "City name is Port Alfred and id is 964432.\n",
      "City name is Geraldton and id is 2070998.\n",
      "City name is Ust'-Ilimsk and id is 2013952.\n",
      "City name is Sitka and id is 5557293.\n",
      "City name is George Town and id is 1735106.\n",
      "City name is Grindavik and id is 3416888.\n",
      "City name is Antofagasta and id is 3899539.\n",
      "City name is Bridlington and id is 2654728.\n",
      "did not find\n",
      "City name is Guánica and id is 4565090.\n",
      "City name is Avarua and id is 4035715.\n",
      "City name is Talnakh and id is 1490256.\n",
      "City name is Kaitangata and id is 2208248.\n",
      "City name is Russell and id is 4047434.\n",
      "City name is Vila Franca do Campo and id is 3372472.\n",
      "City name is Soyo and id is 2236967.\n",
      "City name is Kahului and id is 5847411.\n",
      "did not find\n",
      "City name is Halesowen and id is 2647639.\n",
      "City name is Portales and id is 5484874.\n",
      "City name is Dillon and id is 4576653.\n",
      "City name is Nouadhibou and id is 2377457.\n",
      "City name is Port Lincoln and id is 2063036.\n",
      "City name is Coquimbo and id is 3893629.\n",
      "City name is Goderich and id is 5962442.\n",
      "City name is Mabamba and id is 155514.\n",
      "City name is Mājalgaon and id is 1263684.\n",
      "City name is Marsá Maţrūḩ and id is 352733.\n",
      "did not find\n",
      "City name is Talcahuano and id is 3870282.\n",
      "City name is Manakara and id is 1061605.\n",
      "City name is Kieta and id is 2094027.\n",
      "City name is Bonfim and id is 3405215.\n",
      "City name is Hong Kong and id is 1819729.\n",
      "City name is Saint Paul Harbor and id is 5866583.\n",
      "City name is Bengkulu and id is 1649150.\n",
      "City name is Leominster and id is 4941873.\n",
      "City name is Roald and id is 3141667.\n",
      "City name is Pak Phanang and id is 1608033.\n",
      "City name is Panguna and id is 2088659.\n",
      "City name is Vila Velha and id is 3445026.\n",
      "City name is Tura and id is 1254046.\n",
      "City name is Udachny and id is 2014624.\n",
      "City name is Lakatoro and id is 2136697.\n",
      "City name is Grand Gaube and id is 934479.\n",
      "City name is Ancud and id is 3899695.\n",
      "did not find\n",
      "City name is Dakar and id is 2253354.\n",
      "City name is Baghdad and id is 98182.\n",
      "City name is Vilyuysk and id is 2013392.\n",
      "City name is Caravelas and id is 3466980.\n",
      "City name is Zyryanka and id is 2119283.\n",
      "did not find\n",
      "City name is Gachsaran and id is 136014.\n",
      "did not find\n",
      "City name is Aykhal and id is 2027296.\n",
      "City name is Sulangan and id is 1685422.\n",
      "City name is Haines Junction and id is 5969025.\n",
      "City name is Nantucket and id is 4944903.\n",
      "City name is Mar del Plata and id is 3430863.\n",
      "City name is Carnarvon and id is 2074865.\n",
      "City name is Cherskiy and id is 2126199.\n",
      "City name is San Policarpo and id is 1688696.\n",
      "City name is Klaksvík and id is 2618795.\n",
      "City name is Kainantu and id is 2095038.\n",
      "City name is Derzhavīnsk and id is 1524606.\n",
      "City name is Thompson and id is 6165406.\n"
     ]
    },
    {
     "name": "stdout",
     "output_type": "stream",
     "text": [
      "City name is Oudtshoorn and id is 967106.\n",
      "did not find\n",
      "City name is São João da Barra and id is 3448903.\n",
      "City name is Nikolskoye and id is 546105.\n",
      "City name is Lorengau and id is 2092164.\n",
      "City name is San Andrés and id is 3670218.\n",
      "City name is Bahía Solano and id is 3689325.\n",
      "City name is Katherine and id is 2068655.\n",
      "City name is Fare and id is 4034496.\n",
      "City name is Ust-Tsilma and id is 477940.\n",
      "City name is Mahanoro and id is 1062553.\n",
      "City name is Saskylakh and id is 2017155.\n",
      "City name is Clyde River and id is 5924351.\n",
      "City name is Makariv and id is 702337.\n",
      "City name is Half Moon Bay and id is 5354943.\n",
      "City name is Biu and id is 2346995.\n",
      "City name is Miranda and id is 3674702.\n",
      "City name is Muros and id is 3115824.\n",
      "City name is Kruisfontein and id is 986717.\n",
      "City name is Comodoro Rivadavia and id is 3860443.\n",
      "City name is Trairi and id is 3386177.\n",
      "did not find\n",
      "City name is Tierralta and id is 3667158.\n",
      "City name is Salima and id is 924055.\n",
      "City name is Pevek and id is 2122090.\n",
      "City name is Emerald and id is 2167426.\n",
      "City name is Vysokogornyy and id is 2013216.\n",
      "City name is Manggar and id is 1636426.\n",
      "City name is Acapulco de Juárez and id is 3533462.\n",
      "City name is High Level and id is 5975004.\n",
      "City name is Gorom-Gorom and id is 2360372.\n",
      "City name is Yambio and id is 363656.\n",
      "City name is Waynesville and id is 4497868.\n",
      "City name is Inhambane and id is 1045114.\n",
      "City name is Santa Barbara and id is 5392967.\n",
      "City name is Ełk and id is 772621.\n",
      "did not find\n",
      "City name is Kavieng and id is 2094342.\n",
      "City name is Phalaborwa and id is 965528.\n",
      "City name is Skegness and id is 2637762.\n",
      "did not find\n",
      "City name is Nanortalik and id is 3421765.\n",
      "City name is Mīnāb and id is 123941.\n",
      "City name is Yumbe and id is 225835.\n",
      "City name is Matagami and id is 6067747.\n",
      "City name is Morón and id is 3430545.\n",
      "City name is Milton and id is 6331908.\n",
      "City name is Todos Santos and id is 3981432.\n",
      "City name is Kamina and id is 214614.\n",
      "City name is Saint George and id is 5546220.\n",
      "City name is Mogadishu and id is 53654.\n",
      "City name is Salalah and id is 286621.\n",
      "City name is Dulce Grande and id is 3974329.\n",
      "City name is Severo-Kuril'sk and id is 2121385.\n",
      "City name is Houston and id is 4699066.\n",
      "City name is Pierre and id is 5767918.\n",
      "City name is Brigantine and id is 4500920.\n",
      "City name is ‘Āhuimanu and id is 5856516.\n",
      "City name is Gwanda and id is 890516.\n",
      "City name is Astoria and id is 5711847.\n",
      "City name is Tukan and id is 480637.\n",
      "did not find\n",
      "City name is Tondano and id is 1623424.\n",
      "City name is Lagoa and id is 3372964.\n",
      "did not find\n",
      "City name is Oistins and id is 3373652.\n",
      "City name is Villa Constitución and id is 3832778.\n",
      "City name is Dingle and id is 1714733.\n",
      "City name is Lavrentiya and id is 4031637.\n",
      "City name is Den Helder and id is 2757220.\n",
      "City name is Itarema and id is 3393692.\n",
      "City name is Quelimane and id is 1028434.\n",
      "City name is Sabha and id is 2212775.\n",
      "City name is Ohrid and id is 787487.\n",
      "City name is Maner and id is 1263807.\n",
      "City name is Kitimat and id is 5993072.\n",
      "City name is Nouakchott and id is 2377450.\n",
      "City name is Sibu and id is 1735902.\n",
      "City name is Faanui and id is 4034551.\n",
      "City name is Yangi Marg`ilon and id is 1513491.\n",
      "City name is Saint-Pierre and id is 935214.\n",
      "City name is Kamogawa and id is 2112297.\n",
      "City name is Lompoc and id is 5367788.\n",
      "City name is Kachug and id is 2023333.\n",
      "did not find\n",
      "City name is Inírida and id is 3671450.\n",
      "City name is Pochutla and id is 3517970.\n",
      "City name is Nuevo Progreso and id is 3522526.\n",
      "City name is Kaniama and id is 214389.\n",
      "City name is Saint-Joseph and id is 6690296.\n",
      "City name is Narsaq and id is 3421719.\n",
      "City name is Batasan and id is 1726249.\n",
      "City name is Vrede and id is 942701.\n",
      "City name is Moose Factory and id is 6078372.\n",
      "City name is Bambous Virieux and id is 1106677.\n",
      "City name is Chimbote and id is 3698304.\n",
      "City name is Hasaki and id is 2112802.\n",
      "City name is Stephenville and id is 4734350.\n",
      "City name is Meppen and id is 2871845.\n",
      "City name is Lapeer and id is 4998842.\n",
      "City name is Fuerte Olimpo and id is 3438102.\n",
      "City name is Ikalamavony and id is 1064258.\n",
      "City name is Umluj and id is 100926.\n",
      "City name is Grenå and id is 2621230.\n",
      "City name is Lethem and id is 3379316.\n",
      "City name is Walvis Bay and id is 3359638.\n",
      "City name is La Ronge and id is 6050066.\n",
      "City name is Susaki and id is 1851390.\n",
      "City name is Airai and id is 1651810.\n",
      "did not find\n",
      "City name is Cap Malheureux and id is 934649.\n",
      "City name is Karak and id is 250625.\n",
      "City name is Griffith and id is 4920986.\n",
      "City name is Ginir and id is 336454.\n",
      "City name is Vostok and id is 2013279.\n",
      "City name is San Patricio and id is 4726521.\n",
      "City name is Alofi and id is 4036284.\n",
      "City name is Tripoli and id is 2210247.\n",
      "City name is Tommot and id is 2015179.\n",
      "City name is Payo and id is 1638775.\n",
      "City name is Diamantino and id is 3464724.\n",
      "City name is San Cosme y Damián and id is 3437107.\n",
      "City name is Langsa and id is 1214724.\n",
      "City name is Sakakah and id is 102527.\n",
      "City name is Businga and id is 217637.\n",
      "did not find\n",
      "City name is Tevriz and id is 1489661.\n",
      "City name is Qui Nhon and id is 1568574.\n",
      "City name is Changping and id is 2038154.\n",
      "did not find\n",
      "City name is Pakxan and id is 1655140.\n",
      "City name is Karīmganj and id is 1267758.\n",
      "City name is Torbay and id is 6167817.\n",
      "City name is Cockburn Town and id is 3576994.\n",
      "City name is Baoro and id is 2389804.\n",
      "City name is Ixtapa and id is 4004293.\n",
      "City name is Isnos and id is 3792389.\n",
      "City name is Amalāpuram and id is 1278935.\n",
      "City name is Kudahuvadhoo and id is 1337607.\n",
      "did not find\n",
      "City name is Międzyrzecz and id is 3091969.\n",
      "City name is Togur and id is 1489499.\n",
      "City name is Eirunepé and id is 3664321.\n",
      "did not find\n",
      "City name is Hofn and id is 2630299.\n",
      "City name is Alexandria and id is 361058.\n",
      "City name is Leningradskiy and id is 2123814.\n",
      "City name is Filipeni and id is 678253.\n",
      "City name is Shuiji and id is 1794480.\n",
      "City name is Shestakovo and id is 2016733.\n",
      "City name is Emba and id is 609924.\n",
      "City name is Fuerte and id is 1713558.\n",
      "did not find\n",
      "City name is Toora-Khem and id is 1489401.\n",
      "City name is Urubichá and id is 3901969.\n",
      "City name is Cashel and id is 2965664.\n",
      "did not find\n",
      "City name is Flinders and id is 6255012.\n",
      "City name is Diego de Almagro and id is 3892454.\n",
      "City name is Awjilah and id is 88533.\n",
      "City name is Noshiro and id is 2128867.\n",
      "City name is Okhotsk and id is 2122605.\n",
      "City name is The Valley and id is 3573374.\n",
      "City name is Juneau and id is 5554072.\n",
      "City name is Kendari and id is 1640344.\n",
      "City name is Zhangye and id is 1785036.\n",
      "City name is Samarai and id is 2132606.\n",
      "City name is Kiryat Gat and id is 293842.\n",
      "City name is Pitimbu and id is 3391889.\n",
      "City name is Balkhash and id is 1525798.\n",
      "City name is Lubbock and id is 5525584.\n",
      "City name is Cabo Rojo and id is 4562996.\n",
      "City name is Atasū and id is 1526041.\n",
      "City name is Ilo and id is 3938415.\n",
      "City name is Mahāsamund and id is 1264414.\n",
      "City name is Berlevåg and id is 780687.\n",
      "City name is Brønnøysund and id is 3159954.\n",
      "City name is Gizo Government Station and id is 2108857.\n",
      "City name is Tanete and id is 1629965.\n",
      "City name is Sobolevo and id is 525426.\n",
      "City name is Abhar and id is 145034.\n",
      "City name is Skibbereen and id is 2961459.\n",
      "City name is Paamiut and id is 3421193.\n",
      "City name is São Lourenço do Sul and id is 3448596.\n",
      "City name is Crotone and id is 2524881.\n",
      "City name is Dzerzhinsk and id is 563708.\n",
      "City name is Nanyang and id is 1799629.\n",
      "did not find\n",
      "City name is Great Falls and id is 5655240.\n",
      "City name is Salinópolis and id is 3389822.\n",
      "City name is La Plaine and id is 3575755.\n",
      "City name is Tamworth and id is 2636276.\n",
      "City name is Verkhnyaya Inta and id is 1487332.\n",
      "City name is Marsh Harbour and id is 3571913.\n",
      "City name is Camaná and id is 3945985.\n",
      "City name is Sarandi and id is 3447998.\n",
      "City name is Itoman and id is 1861280.\n",
      "City name is Tsimmerbude and id is 485660.\n",
      "City name is Dunda and id is 160141.\n",
      "City name is Paris and id is 2988507.\n",
      "City name is Viedma and id is 3832899.\n",
      "City name is Puksoozero and id is 504187.\n",
      "City name is Lata and id is 2738381.\n",
      "City name is Marrakesh and id is 2542997.\n",
      "City name is Gunjur and id is 2413419.\n",
      "City name is Neuquén and id is 3843123.\n",
      "City name is Nelson Bay and id is 2155562.\n",
      "City name is Westport and id is 4845585.\n",
      "City name is Caçapava do Sul and id is 3468560.\n"
     ]
    },
    {
     "name": "stdout",
     "output_type": "stream",
     "text": [
      "City name is Beringovskiy and id is 2126710.\n",
      "City name is Jucás and id is 3397119.\n",
      "City name is Karaidel' and id is 552862.\n",
      "City name is Zanjān and id is 111453.\n",
      "City name is Fort Saint James and id is 5881688.\n",
      "did not find\n",
      "City name is Solnechnyy and id is 2016307.\n",
      "City name is Manono and id is 209598.\n",
      "City name is Along and id is 1278969.\n",
      "City name is Katsuura and id is 2112309.\n",
      "City name is Cabadiangan and id is 1722028.\n",
      "did not find\n",
      "did not find\n",
      "City name is Laguna and id is 5364271.\n",
      "City name is Fort Nelson and id is 5955902.\n",
      "City name is Kuching and id is 1735634.\n",
      "City name is Kiunga and id is 2093846.\n",
      "City name is Svarstad and id is 7626348.\n",
      "City name is Tokur and id is 2015217.\n",
      "City name is Port Hardy and id is 6111862.\n",
      "City name is Vao and id is 2137773.\n",
      "City name is Kemijärvi and id is 653272.\n",
      "City name is Pokhvistnevo and id is 507624.\n",
      "did not find\n",
      "City name is Baruun-Urt and id is 2032614.\n",
      "City name is Souillac and id is 933995.\n",
      "City name is Kilrush and id is 2963218.\n",
      "City name is Chadiza and id is 921028.\n",
      "City name is Andapa and id is 1076454.\n",
      "City name is São Gabriel da Cachoeira and id is 3662342.\n",
      "City name is Bochnia and id is 775758.\n",
      "City name is Singapore and id is 1880252.\n",
      "City name is Morros and id is 3394372.\n",
      "City name is São Sebastião and id is 3448257.\n",
      "City name is Atambua and id is 1651103.\n",
      "City name is Korla and id is 1529376.\n",
      "City name is Buraidah and id is 107304.\n",
      "City name is Jinchang and id is 1805733.\n",
      "City name is Belaya Gora and id is 2126785.\n",
      "City name is Athabasca and id is 5887916.\n",
      "City name is Wajid and id is 50814.\n",
      "City name is Sol'vychegodsk and id is 490743.\n",
      "City name is Manyana and id is 933416.\n",
      "City name is Taoudenni and id is 2450173.\n",
      "City name is Dicabisagan and id is 1715015.\n",
      "City name is Paranapanema and id is 3455061.\n",
      "did not find\n",
      "City name is Mogwase and id is 974933.\n",
      "City name is Thunder Bay and id is 6166142.\n",
      "City name is Bac Lieu and id is 1591474.\n",
      "did not find\n",
      "City name is Mersing and id is 1732826.\n",
      "City name is San Lazaro and id is 3581514.\n",
      "City name is Ngunguru and id is 2186111.\n",
      "City name is Havre-St-Pierre and id is 5972291.\n",
      "City name is Sørland and id is 3137469.\n",
      "City name is Maţāy and id is 352628.\n",
      "City name is Mossamedes and id is 3347019.\n",
      "City name is Bandarbeyla and id is 64814.\n",
      "City name is Marawi and id is 1701054.\n",
      "City name is Belaguntha and id is 1276568.\n",
      "City name is Cherdyn' and id is 569359.\n",
      "City name is Ananindeua and id is 3407669.\n",
      "City name is Eldorado and id is 3464343.\n",
      "City name is Bom Jesus and id is 3405304.\n",
      "City name is Chikwawa and id is 931070.\n",
      "City name is Abu Kamal and id is 174448.\n",
      "City name is Bouca and id is 2387890.\n",
      "City name is Vila and id is 7117100.\n",
      "City name is Buala and id is 2109528.\n",
      "City name is Bandon and id is 2966370.\n",
      "City name is Aranos and id is 3358666.\n",
      "City name is Turtas and id is 1540475.\n",
      "City name is Nuevitas and id is 3545841.\n",
      "City name is Tiquisio and id is 3792380.\n",
      "City name is Cayenne and id is 3382160.\n",
      "City name is Porto-Novo and id is 2392087.\n",
      "City name is Darnah and id is 87205.\n",
      "City name is Acajutla and id is 3587498.\n",
      "City name is Asău and id is 686090.\n",
      "City name is Xining and id is 1788852.\n",
      "City name is Portland and id is 5746545.\n",
      "City name is Marsabit and id is 187585.\n",
      "City name is Mnogovershinnyy and id is 2019935.\n",
      "City name is Cabedelo and id is 3404558.\n",
      "City name is Maunabo and id is 4566208.\n",
      "City name is Adrar and id is 2381972.\n",
      "City name is Denpasar and id is 1645528.\n",
      "City name is Buckeye and id is 5287262.\n",
      "City name is Snezhnogorsk and id is 795243.\n",
      "City name is Iqaluit and id is 5983720.\n",
      "City name is Bonthe and id is 2409914.\n",
      "City name is Maragogi and id is 3395458.\n",
      "City name is Moyale and id is 186180.\n",
      "City name is Nagrām and id is 1262168.\n",
      "City name is Penzance and id is 2640377.\n",
      "City name is Trat and id is 1605277.\n",
      "City name is El Rosario and id is 4007812.\n",
      "did not find\n",
      "City name is Zhangjiakou and id is 2033196.\n",
      "City name is Dossor and id is 610023.\n",
      "City name is Hermiston and id is 5731070.\n",
      "City name is Mānsa and id is 1263622.\n",
      "did not find\n",
      "City name is San Rafael and id is 3836669.\n",
      "City name is Jacareacanga and id is 3397763.\n",
      "City name is Tilichiki and id is 2120591.\n",
      "City name is Houndé and id is 2360073.\n",
      "City name is Río Gallegos and id is 3838859.\n",
      "City name is Charagua and id is 3921141.\n",
      "City name is Rabo de Peixe and id is 3372745.\n",
      "City name is Sīwah and id is 347863.\n",
      "City name is Erenhot and id is 2037485.\n",
      "City name is Margate and id is 2643044.\n",
      "City name is Caxito and id is 2242001.\n",
      "City name is Kandi and id is 2393693.\n",
      "City name is Suez and id is 359796.\n",
      "City name is Viişoara and id is 662920.\n",
      "City name is Kortkeros and id is 544397.\n",
      "City name is Padang and id is 1633419.\n",
      "City name is Cabrobó and id is 3404513.\n",
      "City name is Tabou and id is 2281120.\n",
      "City name is Worland and id is 5843495.\n",
      "City name is Djenné and id is 2458589.\n",
      "City name is Aklavik and id is 5882953.\n",
      "City name is Sur and id is 286245.\n",
      "City name is Odienné and id is 2283016.\n",
      "City name is La Libertad and id is 3655131.\n",
      "City name is Ongandjera and id is 3354178.\n",
      "City name is Newton Stewart and id is 2641528.\n",
      "did not find\n",
      "City name is Ryl'sk and id is 695019.\n",
      "City name is Ambanja and id is 1083724.\n",
      "City name is Sturgeon Bay and id is 5274867.\n",
      "did not find\n",
      "City name is Vestmanna and id is 2610343.\n",
      "City name is Santa Maria da Vitória and id is 3450063.\n",
      "City name is Taldan and id is 2015646.\n",
      "did not find\n",
      "City name is Presidencia Roque Sáenz Peña and id is 3840300.\n",
      "City name is Sawtell and id is 2150163.\n",
      "City name is Straumen and id is 3135728.\n",
      "did not find\n",
      "City name is Iquique and id is 3887127.\n",
      "City name is General Roca and id is 3855065.\n",
      "City name is Zhangaözen and id is 607610.\n",
      "City name is Karratha and id is 6620339.\n",
      "City name is Bouna and id is 2290849.\n",
      "City name is Codrington and id is 2171099.\n",
      "City name is Nha Trang and id is 1572151.\n",
      "City name is Faya and id is 110690.\n",
      "did not find\n",
      "City name is Micheweni and id is 153955.\n",
      "City name is Baykit and id is 1510689.\n",
      "City name is Hervey Bay and id is 2146219.\n",
      "City name is Road Town and id is 3577430.\n",
      "City name is Burnie and id is 2173125.\n",
      "City name is Puerto Vallarta and id is 3991328.\n",
      "City name is Camacha and id is 2270385.\n",
      "City name is Khasan and id is 2039557.\n",
      "City name is Shache and id is 1280037.\n",
      "City name is Waingapu and id is 1622318.\n",
      "City name is Southbridge and id is 4951594.\n",
      "City name is Longyearbyen and id is 2729907.\n",
      "City name is Katobu and id is 1640972.\n",
      "City name is Lakes Entrance and id is 2160735.\n",
      "City name is Biltine and id is 244878.\n",
      "City name is Muisne and id is 3653967.\n",
      "City name is Ben Gardane and id is 2472431.\n",
      "City name is Mayya and id is 2020121.\n",
      "City name is Luebo and id is 210939.\n",
      "City name is Farah and id is 1142263.\n",
      "City name is Sargatskoye and id is 1493004.\n",
      "City name is Lüshunkou and id is 1801722.\n",
      "City name is Khani and id is 610864.\n",
      "City name is Bestöbe and id is 1525376.\n",
      "City name is Manjacaze and id is 1040938.\n",
      "City name is Prince Rupert and id is 6113406.\n",
      "City name is Olafsvik and id is 3414079.\n",
      "City name is Valença and id is 3445597.\n",
      "City name is Zell am See and id is 2760634.\n"
     ]
    }
   ],
   "source": [
    "# setup empty list to hold response\n",
    "city_weather = []\n",
    "# look through list of cities. Perform request for weather data for each city.\n",
    "for city in cities:\n",
    "    response_variable = requests.get(query_url+city).json()\n",
    "\n",
    "# try and except \n",
    "    try:\n",
    "        weather_dictionary= {\n",
    "            \"City\": response_variable[\"name\"],\n",
    "            \"Lat\": response_variable[\"coord\"][\"lat\"],\n",
    "            \"Long\": response_variable[\"coord\"][\"lon\"],\n",
    "            \"Max Temp\": response_variable[\"main\"][\"temp_max\"],\n",
    "            \"Humidity\": response_variable[\"main\"][\"humidity\"],\n",
    "            \"Cloudiness\": response_variable[\"clouds\"][\"all\"],\n",
    "            \"Wind Speed\": response_variable[\"wind\"][\"speed\"],\n",
    "            \"Country\": response_variable[\"sys\"][\"country\"],\n",
    "            \"Date\": response_variable[\"dt\"]\n",
    "        }\n",
    "        city_weather.append(weather_dictionary)\n",
    "        print(f\"City name is {response_variable['name']} and id is {response_variable['id']}.\")\n",
    "    except:\n",
    "        print(\"did not find\")"
   ]
  },
  {
   "cell_type": "markdown",
   "metadata": {},
   "source": [
    "### Convert Raw Data to DataFrame\n",
    "* Export the city data into a .csv.\n",
    "* Display the DataFrame"
   ]
  },
  {
   "cell_type": "code",
   "execution_count": 12,
   "metadata": {},
   "outputs": [
    {
     "data": {
      "text/html": [
       "<div>\n",
       "<style scoped>\n",
       "    .dataframe tbody tr th:only-of-type {\n",
       "        vertical-align: middle;\n",
       "    }\n",
       "\n",
       "    .dataframe tbody tr th {\n",
       "        vertical-align: top;\n",
       "    }\n",
       "\n",
       "    .dataframe thead th {\n",
       "        text-align: right;\n",
       "    }\n",
       "</style>\n",
       "<table border=\"1\" class=\"dataframe\">\n",
       "  <thead>\n",
       "    <tr style=\"text-align: right;\">\n",
       "      <th></th>\n",
       "      <th>City</th>\n",
       "      <th>Lat</th>\n",
       "      <th>Long</th>\n",
       "      <th>Max Temp</th>\n",
       "      <th>Humidity</th>\n",
       "      <th>Cloudiness</th>\n",
       "      <th>Wind Speed</th>\n",
       "      <th>Country</th>\n",
       "      <th>Date</th>\n",
       "    </tr>\n",
       "  </thead>\n",
       "  <tbody>\n",
       "    <tr>\n",
       "      <th>0</th>\n",
       "      <td>Ushuaia</td>\n",
       "      <td>-54.80</td>\n",
       "      <td>-68.30</td>\n",
       "      <td>39.43</td>\n",
       "      <td>85</td>\n",
       "      <td>48</td>\n",
       "      <td>4.74</td>\n",
       "      <td>AR</td>\n",
       "      <td>1603927261</td>\n",
       "    </tr>\n",
       "    <tr>\n",
       "      <th>1</th>\n",
       "      <td>Punta Arenas</td>\n",
       "      <td>-53.15</td>\n",
       "      <td>-70.92</td>\n",
       "      <td>48.00</td>\n",
       "      <td>66</td>\n",
       "      <td>89</td>\n",
       "      <td>25.99</td>\n",
       "      <td>CL</td>\n",
       "      <td>1603927812</td>\n",
       "    </tr>\n",
       "    <tr>\n",
       "      <th>2</th>\n",
       "      <td>East London</td>\n",
       "      <td>-33.02</td>\n",
       "      <td>27.91</td>\n",
       "      <td>67.84</td>\n",
       "      <td>84</td>\n",
       "      <td>97</td>\n",
       "      <td>1.70</td>\n",
       "      <td>ZA</td>\n",
       "      <td>1603927813</td>\n",
       "    </tr>\n",
       "    <tr>\n",
       "      <th>3</th>\n",
       "      <td>Doctor Arroyo</td>\n",
       "      <td>23.67</td>\n",
       "      <td>-100.18</td>\n",
       "      <td>73.65</td>\n",
       "      <td>23</td>\n",
       "      <td>0</td>\n",
       "      <td>5.44</td>\n",
       "      <td>MX</td>\n",
       "      <td>1603927813</td>\n",
       "    </tr>\n",
       "    <tr>\n",
       "      <th>4</th>\n",
       "      <td>Berbera</td>\n",
       "      <td>10.44</td>\n",
       "      <td>45.01</td>\n",
       "      <td>80.15</td>\n",
       "      <td>64</td>\n",
       "      <td>9</td>\n",
       "      <td>5.97</td>\n",
       "      <td>SO</td>\n",
       "      <td>1603927813</td>\n",
       "    </tr>\n",
       "    <tr>\n",
       "      <th>...</th>\n",
       "      <td>...</td>\n",
       "      <td>...</td>\n",
       "      <td>...</td>\n",
       "      <td>...</td>\n",
       "      <td>...</td>\n",
       "      <td>...</td>\n",
       "      <td>...</td>\n",
       "      <td>...</td>\n",
       "      <td>...</td>\n",
       "    </tr>\n",
       "    <tr>\n",
       "      <th>548</th>\n",
       "      <td>Manjacaze</td>\n",
       "      <td>-24.71</td>\n",
       "      <td>33.88</td>\n",
       "      <td>67.24</td>\n",
       "      <td>95</td>\n",
       "      <td>0</td>\n",
       "      <td>7.20</td>\n",
       "      <td>MZ</td>\n",
       "      <td>1603927922</td>\n",
       "    </tr>\n",
       "    <tr>\n",
       "      <th>549</th>\n",
       "      <td>Prince Rupert</td>\n",
       "      <td>54.32</td>\n",
       "      <td>-130.32</td>\n",
       "      <td>44.60</td>\n",
       "      <td>81</td>\n",
       "      <td>100</td>\n",
       "      <td>9.17</td>\n",
       "      <td>CA</td>\n",
       "      <td>1603927853</td>\n",
       "    </tr>\n",
       "    <tr>\n",
       "      <th>550</th>\n",
       "      <td>Olafsvik</td>\n",
       "      <td>64.89</td>\n",
       "      <td>-23.71</td>\n",
       "      <td>42.37</td>\n",
       "      <td>71</td>\n",
       "      <td>14</td>\n",
       "      <td>26.46</td>\n",
       "      <td>IS</td>\n",
       "      <td>1603927922</td>\n",
       "    </tr>\n",
       "    <tr>\n",
       "      <th>551</th>\n",
       "      <td>Valença</td>\n",
       "      <td>-13.37</td>\n",
       "      <td>-39.07</td>\n",
       "      <td>75.76</td>\n",
       "      <td>93</td>\n",
       "      <td>100</td>\n",
       "      <td>4.34</td>\n",
       "      <td>BR</td>\n",
       "      <td>1603927759</td>\n",
       "    </tr>\n",
       "    <tr>\n",
       "      <th>552</th>\n",
       "      <td>Zell am See</td>\n",
       "      <td>47.33</td>\n",
       "      <td>12.79</td>\n",
       "      <td>39.99</td>\n",
       "      <td>92</td>\n",
       "      <td>66</td>\n",
       "      <td>2.68</td>\n",
       "      <td>AT</td>\n",
       "      <td>1603927922</td>\n",
       "    </tr>\n",
       "  </tbody>\n",
       "</table>\n",
       "<p>553 rows × 9 columns</p>\n",
       "</div>"
      ],
      "text/plain": [
       "              City    Lat    Long  Max Temp  Humidity  Cloudiness  Wind Speed  \\\n",
       "0          Ushuaia -54.80  -68.30     39.43        85          48        4.74   \n",
       "1     Punta Arenas -53.15  -70.92     48.00        66          89       25.99   \n",
       "2      East London -33.02   27.91     67.84        84          97        1.70   \n",
       "3    Doctor Arroyo  23.67 -100.18     73.65        23           0        5.44   \n",
       "4          Berbera  10.44   45.01     80.15        64           9        5.97   \n",
       "..             ...    ...     ...       ...       ...         ...         ...   \n",
       "548      Manjacaze -24.71   33.88     67.24        95           0        7.20   \n",
       "549  Prince Rupert  54.32 -130.32     44.60        81         100        9.17   \n",
       "550       Olafsvik  64.89  -23.71     42.37        71          14       26.46   \n",
       "551        Valença -13.37  -39.07     75.76        93         100        4.34   \n",
       "552    Zell am See  47.33   12.79     39.99        92          66        2.68   \n",
       "\n",
       "    Country        Date  \n",
       "0        AR  1603927261  \n",
       "1        CL  1603927812  \n",
       "2        ZA  1603927813  \n",
       "3        MX  1603927813  \n",
       "4        SO  1603927813  \n",
       "..      ...         ...  \n",
       "548      MZ  1603927922  \n",
       "549      CA  1603927853  \n",
       "550      IS  1603927922  \n",
       "551      BR  1603927759  \n",
       "552      AT  1603927922  \n",
       "\n",
       "[553 rows x 9 columns]"
      ]
     },
     "metadata": {},
     "output_type": "display_data"
    }
   ],
   "source": [
    "city_df = pd.DataFrame(city_weather)\n",
    "city_df.head()\n",
    "city_df.to_csv(\"city_df.csv\")\n",
    "display(city_df)"
   ]
  },
  {
   "cell_type": "code",
   "execution_count": 13,
   "metadata": {},
   "outputs": [
    {
     "data": {
      "text/html": [
       "<div>\n",
       "<style scoped>\n",
       "    .dataframe tbody tr th:only-of-type {\n",
       "        vertical-align: middle;\n",
       "    }\n",
       "\n",
       "    .dataframe tbody tr th {\n",
       "        vertical-align: top;\n",
       "    }\n",
       "\n",
       "    .dataframe thead th {\n",
       "        text-align: right;\n",
       "    }\n",
       "</style>\n",
       "<table border=\"1\" class=\"dataframe\">\n",
       "  <thead>\n",
       "    <tr style=\"text-align: right;\">\n",
       "      <th></th>\n",
       "      <th>Lat</th>\n",
       "      <th>Long</th>\n",
       "      <th>Max Temp</th>\n",
       "      <th>Humidity</th>\n",
       "      <th>Cloudiness</th>\n",
       "      <th>Wind Speed</th>\n",
       "      <th>Date</th>\n",
       "    </tr>\n",
       "  </thead>\n",
       "  <tbody>\n",
       "    <tr>\n",
       "      <th>count</th>\n",
       "      <td>553.000000</td>\n",
       "      <td>553.000000</td>\n",
       "      <td>553.000000</td>\n",
       "      <td>553.000000</td>\n",
       "      <td>553.000000</td>\n",
       "      <td>553.000000</td>\n",
       "      <td>5.530000e+02</td>\n",
       "    </tr>\n",
       "    <tr>\n",
       "      <th>mean</th>\n",
       "      <td>18.755750</td>\n",
       "      <td>13.804322</td>\n",
       "      <td>59.079602</td>\n",
       "      <td>73.965642</td>\n",
       "      <td>53.356239</td>\n",
       "      <td>6.908156</td>\n",
       "      <td>1.603928e+09</td>\n",
       "    </tr>\n",
       "    <tr>\n",
       "      <th>std</th>\n",
       "      <td>32.665198</td>\n",
       "      <td>87.538280</td>\n",
       "      <td>21.611683</td>\n",
       "      <td>20.809451</td>\n",
       "      <td>39.349899</td>\n",
       "      <td>5.203132</td>\n",
       "      <td>9.128068e+01</td>\n",
       "    </tr>\n",
       "    <tr>\n",
       "      <th>min</th>\n",
       "      <td>-54.800000</td>\n",
       "      <td>-175.200000</td>\n",
       "      <td>-13.700000</td>\n",
       "      <td>1.000000</td>\n",
       "      <td>0.000000</td>\n",
       "      <td>0.290000</td>\n",
       "      <td>1.603927e+09</td>\n",
       "    </tr>\n",
       "    <tr>\n",
       "      <th>25%</th>\n",
       "      <td>-8.120000</td>\n",
       "      <td>-62.950000</td>\n",
       "      <td>45.000000</td>\n",
       "      <td>64.000000</td>\n",
       "      <td>9.000000</td>\n",
       "      <td>3.000000</td>\n",
       "      <td>1.603928e+09</td>\n",
       "    </tr>\n",
       "    <tr>\n",
       "      <th>50%</th>\n",
       "      <td>19.880000</td>\n",
       "      <td>18.420000</td>\n",
       "      <td>64.990000</td>\n",
       "      <td>80.000000</td>\n",
       "      <td>59.000000</td>\n",
       "      <td>5.530000</td>\n",
       "      <td>1.603928e+09</td>\n",
       "    </tr>\n",
       "    <tr>\n",
       "      <th>75%</th>\n",
       "      <td>47.500000</td>\n",
       "      <td>88.400000</td>\n",
       "      <td>77.130000</td>\n",
       "      <td>90.000000</td>\n",
       "      <td>94.000000</td>\n",
       "      <td>9.800000</td>\n",
       "      <td>1.603928e+09</td>\n",
       "    </tr>\n",
       "    <tr>\n",
       "      <th>max</th>\n",
       "      <td>78.220000</td>\n",
       "      <td>179.320000</td>\n",
       "      <td>91.530000</td>\n",
       "      <td>100.000000</td>\n",
       "      <td>100.000000</td>\n",
       "      <td>34.490000</td>\n",
       "      <td>1.603928e+09</td>\n",
       "    </tr>\n",
       "  </tbody>\n",
       "</table>\n",
       "</div>"
      ],
      "text/plain": [
       "              Lat        Long    Max Temp    Humidity  Cloudiness  Wind Speed  \\\n",
       "count  553.000000  553.000000  553.000000  553.000000  553.000000  553.000000   \n",
       "mean    18.755750   13.804322   59.079602   73.965642   53.356239    6.908156   \n",
       "std     32.665198   87.538280   21.611683   20.809451   39.349899    5.203132   \n",
       "min    -54.800000 -175.200000  -13.700000    1.000000    0.000000    0.290000   \n",
       "25%     -8.120000  -62.950000   45.000000   64.000000    9.000000    3.000000   \n",
       "50%     19.880000   18.420000   64.990000   80.000000   59.000000    5.530000   \n",
       "75%     47.500000   88.400000   77.130000   90.000000   94.000000    9.800000   \n",
       "max     78.220000  179.320000   91.530000  100.000000  100.000000   34.490000   \n",
       "\n",
       "               Date  \n",
       "count  5.530000e+02  \n",
       "mean   1.603928e+09  \n",
       "std    9.128068e+01  \n",
       "min    1.603927e+09  \n",
       "25%    1.603928e+09  \n",
       "50%    1.603928e+09  \n",
       "75%    1.603928e+09  \n",
       "max    1.603928e+09  "
      ]
     },
     "execution_count": 13,
     "metadata": {},
     "output_type": "execute_result"
    }
   ],
   "source": [
    "city_df.describe()"
   ]
  },
  {
   "cell_type": "markdown",
   "metadata": {},
   "source": [
    "## Inspect the data and remove the cities where the humidity > 100%.\n",
    "----\n",
    "Skip this step if there are no cities that have humidity > 100%. "
   ]
  },
  {
   "cell_type": "code",
   "execution_count": 15,
   "metadata": {},
   "outputs": [
    {
     "data": {
      "text/html": [
       "<div>\n",
       "<style scoped>\n",
       "    .dataframe tbody tr th:only-of-type {\n",
       "        vertical-align: middle;\n",
       "    }\n",
       "\n",
       "    .dataframe tbody tr th {\n",
       "        vertical-align: top;\n",
       "    }\n",
       "\n",
       "    .dataframe thead th {\n",
       "        text-align: right;\n",
       "    }\n",
       "</style>\n",
       "<table border=\"1\" class=\"dataframe\">\n",
       "  <thead>\n",
       "    <tr style=\"text-align: right;\">\n",
       "      <th></th>\n",
       "      <th>City</th>\n",
       "      <th>Lat</th>\n",
       "      <th>Long</th>\n",
       "      <th>Max Temp</th>\n",
       "      <th>Humidity</th>\n",
       "      <th>Cloudiness</th>\n",
       "      <th>Wind Speed</th>\n",
       "      <th>Country</th>\n",
       "      <th>Date</th>\n",
       "    </tr>\n",
       "  </thead>\n",
       "  <tbody>\n",
       "  </tbody>\n",
       "</table>\n",
       "</div>"
      ],
      "text/plain": [
       "Empty DataFrame\n",
       "Columns: [City, Lat, Long, Max Temp, Humidity, Cloudiness, Wind Speed, Country, Date]\n",
       "Index: []"
      ]
     },
     "execution_count": 15,
     "metadata": {},
     "output_type": "execute_result"
    }
   ],
   "source": [
    "humidity = city_df.loc[city_df[\"Humidity\"] > 100]\n",
    "humidity"
   ]
  },
  {
   "cell_type": "markdown",
   "metadata": {},
   "source": [
    "## I did not find any city that have > 100 humidity"
   ]
  },
  {
   "cell_type": "code",
   "execution_count": 16,
   "metadata": {},
   "outputs": [],
   "source": [
    "#  Get the indices of cities that have humidity over 100%.\n",
    "N/A"
   ]
  },
  {
   "cell_type": "code",
   "execution_count": 17,
   "metadata": {},
   "outputs": [],
   "source": [
    "# Make a new DataFrame equal to the city data to drop all humidity outliers by index.\n",
    "# Passing \"inplace=False\" will make a copy of the city_data DataFrame, which we call \"clean_city_data\".\n",
    "N/A"
   ]
  },
  {
   "cell_type": "code",
   "execution_count": null,
   "metadata": {},
   "outputs": [],
   "source": [
    "\n"
   ]
  },
  {
   "cell_type": "markdown",
   "metadata": {},
   "source": [
    "## Plotting the Data\n",
    "* Use proper labeling of the plots using plot titles (including date of analysis) and axes labels.\n",
    "* Save the plotted figures as .pngs."
   ]
  },
  {
   "cell_type": "markdown",
   "metadata": {},
   "source": [
    "## Latitude vs. Temperature Plot"
   ]
  },
  {
   "cell_type": "code",
   "execution_count": 13,
   "metadata": {
    "scrolled": true
   },
   "outputs": [
    {
     "data": {
      "image/png": "[encoded data removed]",
      "text/plain": [
       "<Figure size 432x288 with 1 Axes>"
      ]
     },
     "metadata": {
      "needs_background": "light"
     },
     "output_type": "display_data"
    }
   ],
   "source": [
    "plt.scatter(city_df[\"Lat\"],city_df[\"Max Temp\"])\n",
    "plt.grid()\n",
    "plt.title(\"Latitude vs. Temperature Scatter Plot\")\n",
    "plt.xlabel(\"Latitude\")\n",
    "plt.ylabel(\"Maximum Temperature\")\n",
    "plt.savefig(\"Figure 1.png\")\n",
    "plt.show()"
   ]
  },
  {
   "cell_type": "code",
   "execution_count": 14,
   "metadata": {},
   "outputs": [],
   "source": [
    "#city_df.plot(kind=\"scatter\")"
   ]
  },
  {
   "cell_type": "markdown",
   "metadata": {},
   "source": [
    "## Latitude vs. Humidity Plot"
   ]
  },
  {
   "cell_type": "code",
   "execution_count": 20,
   "metadata": {},
   "outputs": [
    {
     "data": {
      "image/png": "[encoded data removed]",
      "text/plain": [
       "<Figure size 432x288 with 1 Axes>"
      ]
     },
     "metadata": {
      "needs_background": "light"
     },
     "output_type": "display_data"
    }
   ],
   "source": [
    "plt.scatter(city_df[\"Lat\"], city_df[\"Humidity\"])\n",
    "plt.grid()\n",
    "plt.title(\"Latitude vs. Humidity Plot\")\n",
    "plt.xlabel(\"Latitude\")\n",
    "plt.ylabel(\"Humidity\")\n",
    "plt.savefig(\"Figure 2.png\")\n",
    "plt.show()"
   ]
  },
  {
   "cell_type": "markdown",
   "metadata": {},
   "source": [
    "## Latitude vs. Cloudiness Plot"
   ]
  },
  {
   "cell_type": "code",
   "execution_count": 22,
   "metadata": {},
   "outputs": [
    {
     "data": {
      "image/png": "[encoded data removed]",
      "text/plain": [
       "<Figure size 432x288 with 1 Axes>"
      ]
     },
     "metadata": {
      "needs_background": "light"
     },
     "output_type": "display_data"
    }
   ],
   "source": [
    "plt.scatter(city_df[\"Lat\"], city_df[\"Cloudiness\"])\n",
    "plt.grid()\n",
    "plt.title(\"Latitude vs. Cloudiness Plot\")\n",
    "plt.xlabel(\"Latitude\")\n",
    "plt.ylabel(\"Cloudiness\")\n",
    "plt.savefig(\"Figure 3.png\")\n",
    "plt.show()"
   ]
  },
  {
   "cell_type": "markdown",
   "metadata": {},
   "source": [
    "## Latitude vs. Wind Speed Plot"
   ]
  },
  {
   "cell_type": "code",
   "execution_count": 23,
   "metadata": {},
   "outputs": [
    {
     "data": {
      "image/png": "[encoded data removed]",
      "text/plain": [
       "<Figure size 432x288 with 1 Axes>"
      ]
     },
     "metadata": {
      "needs_background": "light"
     },
     "output_type": "display_data"
    }
   ],
   "source": [
    "plt.scatter(city_df[\"Lat\"], city_df[\"Wind Speed\"])\n",
    "plt.grid()\n",
    "plt.title(\"Latitude vs. Wind Speed Plot\")\n",
    "plt.xlabel(\"Latitude\")\n",
    "plt.ylabel(\"Wind Speed\")\n",
    "plt.savefig(\"Figure 4.png\")\n",
    "plt.show()"
   ]
  },
  {
   "cell_type": "markdown",
   "metadata": {},
   "source": [
    "## Linear Regression"
   ]
  },
  {
   "cell_type": "code",
   "execution_count": 16,
   "metadata": {},
   "outputs": [],
   "source": [
    "#creating function to create linear regression plots\n",
    "def Linear_Regression(x,y):\n",
    "    #calculating correlation coefficient\n",
    "    cor_coeff = st.pearsonr(x,y)\n",
    "    #calculating linear regression\n",
    "    slope,intercept,rvalue,pvalue,stderr = linregress(x,y)\n",
    "    regress_value = x * slope + intercept\n",
    "    line_eq = \"y = \" + str(round(slope,2)) + \"x + \" + str(round(intercept,2))\n",
    "    print(f\"Correlation is {round(cor_coeff[0],2)}\")\n",
    "    print(f\"The r-squared is {round(rvalue ** 2)}\")\n",
    "    #plotting linear regression on top of scatter plot\n",
    "    plt.scatter(x,y)\n",
    "    plt.plot(x,regress_value, \"r-\")\n",
    "    return line_eq\n",
    "\n"
   ]
  },
  {
   "cell_type": "code",
   "execution_count": 17,
   "metadata": {},
   "outputs": [
    {
     "data": {
      "text/html": [
       "<div>\n",
       "<style scoped>\n",
       "    .dataframe tbody tr th:only-of-type {\n",
       "        vertical-align: middle;\n",
       "    }\n",
       "\n",
       "    .dataframe tbody tr th {\n",
       "        vertical-align: top;\n",
       "    }\n",
       "\n",
       "    .dataframe thead th {\n",
       "        text-align: right;\n",
       "    }\n",
       "</style>\n",
       "<table border=\"1\" class=\"dataframe\">\n",
       "  <thead>\n",
       "    <tr style=\"text-align: right;\">\n",
       "      <th></th>\n",
       "      <th>City</th>\n",
       "      <th>Lat</th>\n",
       "      <th>Long</th>\n",
       "      <th>Max Temp</th>\n",
       "      <th>Humidity</th>\n",
       "      <th>Cloudiness</th>\n",
       "      <th>Wind Speed</th>\n",
       "      <th>Country</th>\n",
       "      <th>Date</th>\n",
       "    </tr>\n",
       "  </thead>\n",
       "  <tbody>\n",
       "    <tr>\n",
       "      <th>0</th>\n",
       "      <td>Ushuaia</td>\n",
       "      <td>-54.80</td>\n",
       "      <td>-68.30</td>\n",
       "      <td>39.43</td>\n",
       "      <td>85</td>\n",
       "      <td>48</td>\n",
       "      <td>4.74</td>\n",
       "      <td>AR</td>\n",
       "      <td>1603927261</td>\n",
       "    </tr>\n",
       "    <tr>\n",
       "      <th>1</th>\n",
       "      <td>Punta Arenas</td>\n",
       "      <td>-53.15</td>\n",
       "      <td>-70.92</td>\n",
       "      <td>48.00</td>\n",
       "      <td>66</td>\n",
       "      <td>89</td>\n",
       "      <td>25.99</td>\n",
       "      <td>CL</td>\n",
       "      <td>1603927812</td>\n",
       "    </tr>\n",
       "    <tr>\n",
       "      <th>2</th>\n",
       "      <td>East London</td>\n",
       "      <td>-33.02</td>\n",
       "      <td>27.91</td>\n",
       "      <td>67.84</td>\n",
       "      <td>84</td>\n",
       "      <td>97</td>\n",
       "      <td>1.70</td>\n",
       "      <td>ZA</td>\n",
       "      <td>1603927813</td>\n",
       "    </tr>\n",
       "    <tr>\n",
       "      <th>5</th>\n",
       "      <td>New Norfolk</td>\n",
       "      <td>-42.78</td>\n",
       "      <td>147.06</td>\n",
       "      <td>64.00</td>\n",
       "      <td>56</td>\n",
       "      <td>5</td>\n",
       "      <td>1.99</td>\n",
       "      <td>AU</td>\n",
       "      <td>1603927813</td>\n",
       "    </tr>\n",
       "    <tr>\n",
       "      <th>6</th>\n",
       "      <td>Atuona</td>\n",
       "      <td>-9.80</td>\n",
       "      <td>-139.03</td>\n",
       "      <td>77.72</td>\n",
       "      <td>75</td>\n",
       "      <td>52</td>\n",
       "      <td>12.64</td>\n",
       "      <td>PF</td>\n",
       "      <td>1603927813</td>\n",
       "    </tr>\n",
       "    <tr>\n",
       "      <th>...</th>\n",
       "      <td>...</td>\n",
       "      <td>...</td>\n",
       "      <td>...</td>\n",
       "      <td>...</td>\n",
       "      <td>...</td>\n",
       "      <td>...</td>\n",
       "      <td>...</td>\n",
       "      <td>...</td>\n",
       "      <td>...</td>\n",
       "    </tr>\n",
       "    <tr>\n",
       "      <th>536</th>\n",
       "      <td>Katobu</td>\n",
       "      <td>-4.94</td>\n",
       "      <td>122.53</td>\n",
       "      <td>85.59</td>\n",
       "      <td>58</td>\n",
       "      <td>68</td>\n",
       "      <td>3.85</td>\n",
       "      <td>ID</td>\n",
       "      <td>1603927920</td>\n",
       "    </tr>\n",
       "    <tr>\n",
       "      <th>537</th>\n",
       "      <td>Lakes Entrance</td>\n",
       "      <td>-37.88</td>\n",
       "      <td>147.98</td>\n",
       "      <td>66.00</td>\n",
       "      <td>67</td>\n",
       "      <td>4</td>\n",
       "      <td>1.99</td>\n",
       "      <td>AU</td>\n",
       "      <td>1603927921</td>\n",
       "    </tr>\n",
       "    <tr>\n",
       "      <th>542</th>\n",
       "      <td>Luebo</td>\n",
       "      <td>-5.35</td>\n",
       "      <td>21.42</td>\n",
       "      <td>69.80</td>\n",
       "      <td>94</td>\n",
       "      <td>91</td>\n",
       "      <td>1.72</td>\n",
       "      <td>CD</td>\n",
       "      <td>1603927921</td>\n",
       "    </tr>\n",
       "    <tr>\n",
       "      <th>548</th>\n",
       "      <td>Manjacaze</td>\n",
       "      <td>-24.71</td>\n",
       "      <td>33.88</td>\n",
       "      <td>67.24</td>\n",
       "      <td>95</td>\n",
       "      <td>0</td>\n",
       "      <td>7.20</td>\n",
       "      <td>MZ</td>\n",
       "      <td>1603927922</td>\n",
       "    </tr>\n",
       "    <tr>\n",
       "      <th>551</th>\n",
       "      <td>Valença</td>\n",
       "      <td>-13.37</td>\n",
       "      <td>-39.07</td>\n",
       "      <td>75.76</td>\n",
       "      <td>93</td>\n",
       "      <td>100</td>\n",
       "      <td>4.34</td>\n",
       "      <td>BR</td>\n",
       "      <td>1603927759</td>\n",
       "    </tr>\n",
       "  </tbody>\n",
       "</table>\n",
       "<p>175 rows × 9 columns</p>\n",
       "</div>"
      ],
      "text/plain": [
       "               City    Lat    Long  Max Temp  Humidity  Cloudiness  \\\n",
       "0           Ushuaia -54.80  -68.30     39.43        85          48   \n",
       "1      Punta Arenas -53.15  -70.92     48.00        66          89   \n",
       "2       East London -33.02   27.91     67.84        84          97   \n",
       "5       New Norfolk -42.78  147.06     64.00        56           5   \n",
       "6            Atuona  -9.80 -139.03     77.72        75          52   \n",
       "..              ...    ...     ...       ...       ...         ...   \n",
       "536          Katobu  -4.94  122.53     85.59        58          68   \n",
       "537  Lakes Entrance -37.88  147.98     66.00        67           4   \n",
       "542           Luebo  -5.35   21.42     69.80        94          91   \n",
       "548       Manjacaze -24.71   33.88     67.24        95           0   \n",
       "551         Valença -13.37  -39.07     75.76        93         100   \n",
       "\n",
       "     Wind Speed Country        Date  \n",
       "0          4.74      AR  1603927261  \n",
       "1         25.99      CL  1603927812  \n",
       "2          1.70      ZA  1603927813  \n",
       "5          1.99      AU  1603927813  \n",
       "6         12.64      PF  1603927813  \n",
       "..          ...     ...         ...  \n",
       "536        3.85      ID  1603927920  \n",
       "537        1.99      AU  1603927921  \n",
       "542        1.72      CD  1603927921  \n",
       "548        7.20      MZ  1603927922  \n",
       "551        4.34      BR  1603927759  \n",
       "\n",
       "[175 rows x 9 columns]"
      ]
     },
     "execution_count": 17,
     "metadata": {},
     "output_type": "execute_result"
    }
   ],
   "source": [
    "#creating dataframes for northern and southern hemispheres\n",
    "northern_hemisphere = city_df.loc[city_df[\"Lat\"]>= 0]\n",
    "northern_hemisphere\n",
    "\n",
    "southern_hemisphere = city_df.loc[city_df[\"Lat\"]< 0]\n",
    "southern_hemisphere"
   ]
  },
  {
   "cell_type": "markdown",
   "metadata": {},
   "source": [
    "####  Northern Hemisphere - Max Temp vs. Latitude Linear Regression"
   ]
  },
  {
   "cell_type": "code",
   "execution_count": 20,
   "metadata": {},
   "outputs": [
    {
     "name": "stdout",
     "output_type": "stream",
     "text": [
      "Correlation is -0.86\n",
      "The r-squared is 1.0\n"
     ]
    },
    {
     "data": {
      "image/png": "[encoded data removed]",
      "text/plain": [
       "<Figure size 432x288 with 1 Axes>"
      ]
     },
     "metadata": {
      "needs_background": "light"
     },
     "output_type": "display_data"
    }
   ],
   "source": [
    "northern_hem_plot = Linear_Regression(northern_hemisphere[\"Lat\"], northern_hemisphere[\"Max Temp\"])\n",
    "plt.annotate(northern_hem_plot, (10,15), fontsize=15, color=\"green\")\n",
    "plt.xlabel(\"Latitude\")\n",
    "plt.ylabel(\"Max Temp in Farenheit\")\n",
    "plt.title(\"Max Temp vs. Latitude Linear Regression in Northern Hemisphere\")\n",
    "plt.savefig(\"Figure 5.png\")"
   ]
  },
  {
   "cell_type": "markdown",
   "metadata": {},
   "source": [
    "# ANALYSIS: As the latitude in the northern hemisphere increases the temperature decreases which results in a strong negative correlation because r-squared is equal to 1 and the correlation is -0.86."
   ]
  },
  {
   "cell_type": "markdown",
   "metadata": {},
   "source": [
    "####  Southern Hemisphere - Max Temp vs. Latitude Linear Regression"
   ]
  },
  {
   "cell_type": "code",
   "execution_count": 43,
   "metadata": {},
   "outputs": [
    {
     "name": "stdout",
     "output_type": "stream",
     "text": [
      "Correlation is 0.73\n",
      "The r-squared is 1.0\n"
     ]
    },
    {
     "data": {
      "image/png": "[encoded data removed]",
      "text/plain": [
       "<Figure size 432x288 with 1 Axes>"
      ]
     },
     "metadata": {
      "needs_background": "light"
     },
     "output_type": "display_data"
    }
   ],
   "source": [
    "southern_hem_plot = Linear_Regression(southern_hemisphere[\"Lat\"], southern_hemisphere[\"Max Temp\"])\n",
    "plt.annotate(southern_hem_plot, (-30,50), fontsize=15, color=\"green\")\n",
    "plt.xlabel(\"Latitude\")\n",
    "plt.ylabel(\"Max Temp in Farenheit\")\n",
    "plt.title(\"Max Temp vs. Latitude Linear Regression in Southern Hemisphere\")\n",
    "plt.savefig(\"Figure 6.png\")"
   ]
  },
  {
   "cell_type": "markdown",
   "metadata": {},
   "source": [
    "# ANALYSIS: As the latitude increases in the southern hemisphere so does the temperature which results in a strong positive correlation where the r-square is equal to 1 and the correlation is 0.77."
   ]
  },
  {
   "cell_type": "markdown",
   "metadata": {},
   "source": [
    "####  Northern Hemisphere - Humidity (%) vs. Latitude Linear Regression"
   ]
  },
  {
   "cell_type": "code",
   "execution_count": 31,
   "metadata": {},
   "outputs": [
    {
     "name": "stdout",
     "output_type": "stream",
     "text": [
      "Correlation is 0.28\n",
      "The r-squared is 0.0\n"
     ]
    },
    {
     "data": {
      "image/png": "[encoded data removed]",
      "text/plain": [
       "<Figure size 432x288 with 1 Axes>"
      ]
     },
     "metadata": {
      "needs_background": "light"
     },
     "output_type": "display_data"
    }
   ],
   "source": [
    "northern_hem_plot = Linear_Regression(northern_hemisphere[\"Lat\"], northern_hemisphere[\"Humidity\"])\n",
    "plt.annotate(northern_hem_plot, (60,50), fontsize=15, color=\"green\")\n",
    "plt.xlabel(\"Latitude\")\n",
    "plt.ylabel(\"Humidity (%)\")\n",
    "plt.title(\"Humidity vs. Latitude Linear Regression in Northern Hemisphere\")\n",
    "plt.savefig(\"Figure 7.png\")"
   ]
  },
  {
   "cell_type": "markdown",
   "metadata": {},
   "source": [
    "# ANALYSIS: There is relatively no correlation between the increase in latitude and the increase in humidity resulting in a very weak positive correlation of 0.28 with an r-square of 0."
   ]
  },
  {
   "cell_type": "markdown",
   "metadata": {},
   "source": [
    "####  Southern Hemisphere - Humidity (%) vs. Latitude Linear Regression"
   ]
  },
  {
   "cell_type": "code",
   "execution_count": 30,
   "metadata": {},
   "outputs": [
    {
     "name": "stdout",
     "output_type": "stream",
     "text": [
      "Correlation is 0.14\n",
      "The r-squared is 0.0\n"
     ]
    },
    {
     "data": {
      "image/png": "[encoded data removed]",
      "text/plain": [
       "<Figure size 432x288 with 1 Axes>"
      ]
     },
     "metadata": {
      "needs_background": "light"
     },
     "output_type": "display_data"
    }
   ],
   "source": [
    "southern_hem_plot = Linear_Regression(southern_hemisphere[\"Lat\"], southern_hemisphere[\"Humidity\"])\n",
    "plt.annotate(southern_hem_plot, (-20,50), fontsize=15, color=\"green\")\n",
    "plt.xlabel(\"Latitude\")\n",
    "plt.ylabel(\"Humidity (%)\")\n",
    "plt.title(\"Humidity vs. Latitude Linear Regression in Southern Hemisphere\")\n",
    "plt.savefig(\"Figure 8.png\")"
   ]
  },
  {
   "cell_type": "markdown",
   "metadata": {},
   "source": [
    "# ANALYSIS: There is no correlation between the increase in latitude and the increase in humidity in the southern hemisphere because the correlation is 0.14 which results in a very weak positive correlation with an r-square of 0."
   ]
  },
  {
   "cell_type": "markdown",
   "metadata": {},
   "source": [
    "####  Northern Hemisphere - Cloudiness (%) vs. Latitude Linear Regression"
   ]
  },
  {
   "cell_type": "code",
   "execution_count": 32,
   "metadata": {},
   "outputs": [
    {
     "name": "stdout",
     "output_type": "stream",
     "text": [
      "Correlation is 0.16\n",
      "The r-squared is 0.0\n"
     ]
    },
    {
     "data": {
      "image/png": "[encoded data removed]",
      "text/plain": [
       "<Figure size 432x288 with 1 Axes>"
      ]
     },
     "metadata": {
      "needs_background": "light"
     },
     "output_type": "display_data"
    }
   ],
   "source": [
    "northern_hem_plot = Linear_Regression(northern_hemisphere[\"Lat\"], northern_hemisphere[\"Cloudiness\"])\n",
    "plt.annotate(northern_hem_plot, (40,40), fontsize=15, color=\"green\")\n",
    "plt.xlabel(\"Latitude\")\n",
    "plt.ylabel(\"Cloudiness (%)\")\n",
    "plt.title(\"Cloudiness vs. Latitude Linear Regression in Northern Hemisphere\")\n",
    "plt.savefig(\"Figure 9.png\")"
   ]
  },
  {
   "cell_type": "markdown",
   "metadata": {},
   "source": [
    "# ANALYSIS: There is no correlation between the increase in latitude and the increase in cloudiness in the northern hemisphere because the correlation is 0.16 and r-square is 0."
   ]
  },
  {
   "cell_type": "markdown",
   "metadata": {},
   "source": [
    "####  Southern Hemisphere - Cloudiness (%) vs. Latitude Linear Regression"
   ]
  },
  {
   "cell_type": "code",
   "execution_count": 39,
   "metadata": {},
   "outputs": [
    {
     "name": "stdout",
     "output_type": "stream",
     "text": [
      "Correlation is 0.16\n",
      "The r-squared is 0.0\n"
     ]
    },
    {
     "data": {
      "image/png": "[encoded data removed]",
      "text/plain": [
       "<Figure size 432x288 with 1 Axes>"
      ]
     },
     "metadata": {
      "needs_background": "light"
     },
     "output_type": "display_data"
    }
   ],
   "source": [
    "southern_hem_plot = Linear_Regression(southern_hemisphere[\"Lat\"], southern_hemisphere[\"Cloudiness\"])\n",
    "plt.annotate(southern_hem_plot, (-30,30), fontsize=15, color=\"green\")\n",
    "plt.xlabel(\"Latitude\")\n",
    "plt.ylabel(\"Cloudiness (%)\")\n",
    "plt.title(\"Cloudiness vs. Latitude Linear Regression in Southern Hemisphere\")\n",
    "plt.savefig(\"Figure 10.png\")"
   ]
  },
  {
   "cell_type": "markdown",
   "metadata": {},
   "source": [
    "# ANALYSIS: There is no correlation between the increase in latitude in the southern hemisphere and increase in cloudiness because the correlation is 0.16 and r-square is 0."
   ]
  },
  {
   "cell_type": "markdown",
   "metadata": {},
   "source": [
    "####  Northern Hemisphere - Wind Speed (mph) vs. Latitude Linear Regression"
   ]
  },
  {
   "cell_type": "code",
   "execution_count": 40,
   "metadata": {},
   "outputs": [
    {
     "name": "stdout",
     "output_type": "stream",
     "text": [
      "Correlation is 0.14\n",
      "The r-squared is 0.0\n"
     ]
    },
    {
     "data": {
      "image/png": "[encoded data removed]",
      "text/plain": [
       "<Figure size 432x288 with 1 Axes>"
      ]
     },
     "metadata": {
      "needs_background": "light"
     },
     "output_type": "display_data"
    }
   ],
   "source": [
    "northern_hem_plot = Linear_Regression(northern_hemisphere[\"Lat\"], northern_hemisphere[\"Wind Speed\"])\n",
    "plt.annotate(northern_hem_plot, (40,15), fontsize=15, color=\"green\")\n",
    "plt.xlabel(\"Latitude\")\n",
    "plt.ylabel(\"Wind Speed (mph)\")\n",
    "plt.title(\"Wind Speed (mph) vs. Latitude Linear Regression in Northern Hemisphere\")\n",
    "plt.savefig(\"Figure 11.png\")"
   ]
  },
  {
   "cell_type": "markdown",
   "metadata": {},
   "source": [
    "# ANALYSIS: As the latitude increases in the northern hemisphere the wind speed stays relatively the same. Because the correlation is 0.14 and the r-square is 0 there is a weak positive relationship."
   ]
  },
  {
   "cell_type": "markdown",
   "metadata": {},
   "source": [
    "####  Southern Hemisphere - Wind Speed (mph) vs. Latitude Linear Regression"
   ]
  },
  {
   "cell_type": "code",
   "execution_count": 42,
   "metadata": {},
   "outputs": [
    {
     "name": "stdout",
     "output_type": "stream",
     "text": [
      "Correlation is -0.22\n",
      "The r-squared is 0.0\n"
     ]
    },
    {
     "data": {
      "image/png": "[encoded data removed]",
      "text/plain": [
       "<Figure size 432x288 with 1 Axes>"
      ]
     },
     "metadata": {
      "needs_background": "light"
     },
     "output_type": "display_data"
    }
   ],
   "source": [
    "southern_hem_plot = Linear_Regression(southern_hemisphere[\"Lat\"], southern_hemisphere[\"Wind Speed\"])\n",
    "plt.annotate(southern_hem_plot, (-50,20), fontsize=15, color=\"green\")\n",
    "plt.xlabel(\"Latitude\")\n",
    "plt.ylabel(\"Wind Speed (mph)\")\n",
    "plt.title(\"Wind Speed (mph) vs. Latitude Linear Regression in Southern Hemisphere\")\n",
    "plt.savefig(\"Figure 12.png\")"
   ]
  },
  {
   "cell_type": "markdown",
   "metadata": {},
   "source": [
    "# ANALAYSIS: There is a weak negative relationship between the increase of latitude and the increase of wind speed because the correlation is -0.22 with an r-square of 0."
   ]
  },
  {
   "cell_type": "markdown",
   "metadata": {},
   "source": [
    "# OVERALL FINDINGS: There was a very strong negative relationship between the increase in latitude and the decrease in temperature which would cause very cold temperatures the higher the latitude."
   ]
  }
 ],
 "metadata": {
  "anaconda-cloud": {},
  "kernel_info": {
   "name": "python3"
  },
  "kernelspec": {
   "display_name": "Python 3",
   "language": "python",
   "name": "python3"
  },
  "language_info": {
   "codemirror_mode": {
    "name": "ipython",
    "version": 3
   },
   "file_extension": ".py",
   "mimetype": "text/x-python",
   "name": "python",
   "nbconvert_exporter": "python",
   "pygments_lexer": "ipython3",
   "version": "3.6.10"
  },
  "latex_envs": {
   "LaTeX_envs_menu_present": true,
   "autoclose": false,
   "autocomplete": true,
   "bibliofile": "biblio.bib",
   "cite_by": "apalike",
   "current_citInitial": 1,
   "eqLabelWithNumbers": true,
   "eqNumInitial": 1,
   "hotkeys": {
    "equation": "Ctrl-E",
    "itemize": "Ctrl-I"
   },
   "labels_anchors": false,
   "latex_user_defs": false,
   "report_style_numbering": false,
   "user_envs_cfg": false
  },
  "nteract": {
   "version": "0.12.3"
  }
 },
 "nbformat": 4,
 "nbformat_minor": 2
}
